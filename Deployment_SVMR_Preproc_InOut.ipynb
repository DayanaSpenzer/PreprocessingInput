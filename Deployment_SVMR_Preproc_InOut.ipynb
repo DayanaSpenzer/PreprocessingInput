{
 "cells": [
  {
   "cell_type": "code",
   "execution_count": 1,
   "id": "a54f7e32-4fb7-4fd0-8244-3ac25fff6bda",
   "metadata": {},
   "outputs": [
    {
     "name": "stderr",
     "output_type": "stream",
     "text": [
      "C:\\Users\\Dayana\\anaconda3\\Lib\\site-packages\\sklearn\\utils\\validation.py:2739: UserWarning: X does not have valid feature names, but StandardScaler was fitted with feature names\n",
      "  warnings.warn(\n"
     ]
    },
    {
     "data": {
      "text/plain": [
       "array([[112198.84084272]])"
      ]
     },
     "execution_count": 1,
     "metadata": {},
     "output_type": "execute_result"
    }
   ],
   "source": [
    "import pickle\n",
    "loaded_model=pickle.load(open(\"PreInOut_SVMRModel.sav\",'rb'))\n",
    "loaded_scx=pickle.load(open(\"scx.pkl\",'rb'))\n",
    "loaded_scy=pickle.load(open(\"scy.pkl\",'rb'))\n",
    "preinput=loaded_scx.transform([[10000,23000,13244,0,1]])\n",
    "result=loaded_model.predict(preinput)\n",
    "preoutput=loaded_scy.inverse_transform([result])\n",
    "preoutput"
   ]
  },
  {
   "cell_type": "code",
   "execution_count": null,
   "id": "4727e929-814d-4e9d-9e82-f77ccff4357c",
   "metadata": {},
   "outputs": [],
   "source": []
  }
 ],
 "metadata": {
  "kernelspec": {
   "display_name": "Python [conda env:base] *",
   "language": "python",
   "name": "conda-base-py"
  },
  "language_info": {
   "codemirror_mode": {
    "name": "ipython",
    "version": 3
   },
   "file_extension": ".py",
   "mimetype": "text/x-python",
   "name": "python",
   "nbconvert_exporter": "python",
   "pygments_lexer": "ipython3",
   "version": "3.13.5"
  }
 },
 "nbformat": 4,
 "nbformat_minor": 5
}
